{
 "cells": [
  {
   "cell_type": "markdown",
   "metadata": {},
   "source": [
    "# App Profile Recommendation\n",
    "I will pretend as I am a part of a company that builds both Android and iOS mobile apps. My goal is to analyse data to help developers understand what type of apps are likely to attract more users."
   ]
  },
  {
   "cell_type": "code",
   "execution_count": 1,
   "metadata": {},
   "outputs": [],
   "source": [
    "from csv import reader\n",
    "app_store = open('AppleStore.csv', encoding='utf8')\n",
    "app_store = list(reader(app_store)) # 16, 7198\n",
    "\n",
    "play_store = open('googleplaystore.csv', encoding='utf8')\n",
    "play_store = list(reader(play_store)) # 13, 10842"
   ]
  },
  {
   "cell_type": "code",
   "execution_count": 2,
   "metadata": {},
   "outputs": [],
   "source": [
    "def explore_data(dataset, start, end, rows_and_columns=False):\n",
    "    dataset_slice = dataset[start:end]    \n",
    "    for row in dataset_slice:\n",
    "        print(row)\n",
    "        print('\\n') # adds a new (empty) line after each row\n",
    "\n",
    "    if rows_and_columns:\n",
    "        print('Number of rows:', len(dataset))\n",
    "        print('Number of columns:', len(dataset[0]))"
   ]
  },
  {
   "cell_type": "code",
   "execution_count": 3,
   "metadata": {},
   "outputs": [
    {
     "name": "stdout",
     "output_type": "stream",
     "text": [
      "['App', 'Category', 'Rating', 'Reviews', 'Size', 'Installs', 'Type', 'Price', 'Content Rating', 'Genres', 'Last Updated', 'Current Ver', 'Android Ver']\n",
      "\n",
      "\n",
      "['Photo Editor & Candy Camera & Grid & ScrapBook', 'ART_AND_DESIGN', '4.1', '159', '19M', '10,000+', 'Free', '0', 'Everyone', 'Art & Design', 'January 7, 2018', '1.0.0', '4.0.3 and up']\n",
      "\n",
      "\n",
      "['Coloring book moana', 'ART_AND_DESIGN', '3.9', '967', '14M', '500,000+', 'Free', '0', 'Everyone', 'Art & Design;Pretend Play', 'January 15, 2018', '2.0.0', '4.0.3 and up']\n",
      "\n",
      "\n",
      "Number of rows: 10842\n",
      "Number of columns: 13\n"
     ]
    }
   ],
   "source": [
    "explore_data(play_store, 0, 3, True)"
   ]
  },
  {
   "cell_type": "code",
   "execution_count": 4,
   "metadata": {
    "scrolled": true
   },
   "outputs": [
    {
     "name": "stdout",
     "output_type": "stream",
     "text": [
      "['id', 'track_name', 'size_bytes', 'currency', 'price', 'rating_count_tot', 'rating_count_ver', 'user_rating', 'user_rating_ver', 'ver', 'cont_rating', 'prime_genre', 'sup_devices.num', 'ipadSc_urls.num', 'lang.num', 'vpp_lic']\n",
      "\n",
      "\n",
      "['284882215', 'Facebook', '389879808', 'USD', '0.0', '2974676', '212', '3.5', '3.5', '95.0', '4+', 'Social Networking', '37', '1', '29', '1']\n",
      "\n",
      "\n",
      "['389801252', 'Instagram', '113954816', 'USD', '0.0', '2161558', '1289', '4.5', '4.0', '10.23', '12+', 'Photo & Video', '37', '0', '29', '1']\n",
      "\n",
      "\n",
      "['529479190', 'Clash of Clans', '116476928', 'USD', '0.0', '2130805', '579', '4.5', '4.5', '9.24.12', '9+', 'Games', '38', '5', '18', '1']\n",
      "\n",
      "\n",
      "['420009108', 'Temple Run', '65921024', 'USD', '0.0', '1724546', '3842', '4.5', '4.0', '1.6.2', '9+', 'Games', '40', '5', '1', '1']\n",
      "\n",
      "\n",
      "['284035177', 'Pandora - Music & Radio', '130242560', 'USD', '0.0', '1126879', '3594', '4.0', '4.5', '8.4.1', '12+', 'Music', '37', '4', '1', '1']\n",
      "\n",
      "\n",
      "['429047995', 'Pinterest', '74778624', 'USD', '0.0', '1061624', '1814', '4.5', '4.0', '6.26', '12+', 'Social Networking', '37', '5', '27', '1']\n",
      "\n",
      "\n",
      "['282935706', 'Bible', '92774400', 'USD', '0.0', '985920', '5320', '4.5', '5.0', '7.5.1', '4+', 'Reference', '37', '5', '45', '1']\n",
      "\n",
      "\n",
      "['553834731', 'Candy Crush Saga', '222846976', 'USD', '0.0', '961794', '2453', '4.5', '4.5', '1.101.0', '4+', 'Games', '43', '5', '24', '1']\n",
      "\n",
      "\n",
      "['324684580', 'Spotify Music', '132510720', 'USD', '0.0', '878563', '8253', '4.5', '4.5', '8.4.3', '12+', 'Music', '37', '5', '18', '1']\n",
      "\n",
      "\n",
      "Number of rows: 7198\n",
      "Number of columns: 16\n"
     ]
    }
   ],
   "source": [
    "explore_data(app_store, 0, 10, True)"
   ]
  },
  {
   "cell_type": "markdown",
   "metadata": {},
   "source": [
    "## Displaying the columns"
   ]
  },
  {
   "cell_type": "code",
   "execution_count": 5,
   "metadata": {
    "scrolled": false
   },
   "outputs": [
    {
     "data": {
      "text/plain": [
       "['id',\n",
       " 'track_name',\n",
       " 'size_bytes',\n",
       " 'currency',\n",
       " 'price',\n",
       " 'rating_count_tot',\n",
       " 'rating_count_ver',\n",
       " 'user_rating',\n",
       " 'user_rating_ver',\n",
       " 'ver',\n",
       " 'cont_rating',\n",
       " 'prime_genre',\n",
       " 'sup_devices.num',\n",
       " 'ipadSc_urls.num',\n",
       " 'lang.num',\n",
       " 'vpp_lic']"
      ]
     },
     "execution_count": 5,
     "metadata": {},
     "output_type": "execute_result"
    }
   ],
   "source": [
    "app_store_header = app_store[0]\n",
    "app_store_header"
   ]
  },
  {
   "cell_type": "code",
   "execution_count": 6,
   "metadata": {
    "scrolled": false
   },
   "outputs": [
    {
     "data": {
      "text/plain": [
       "['App',\n",
       " 'Category',\n",
       " 'Rating',\n",
       " 'Reviews',\n",
       " 'Size',\n",
       " 'Installs',\n",
       " 'Type',\n",
       " 'Price',\n",
       " 'Content Rating',\n",
       " 'Genres',\n",
       " 'Last Updated',\n",
       " 'Current Ver',\n",
       " 'Android Ver']"
      ]
     },
     "execution_count": 6,
     "metadata": {},
     "output_type": "execute_result"
    }
   ],
   "source": [
    "play_store_header = play_store[0]\n",
    "play_store_header"
   ]
  },
  {
   "cell_type": "markdown",
   "metadata": {},
   "source": [
    "### Documentation for datasets\n",
    "\n",
    "https://www.kaggle.com/lava18/google-play-store-apps\n",
    "\n",
    "https://www.kaggle.com/ramamet4/app-store-apple-data-set-10k-apps"
   ]
  },
  {
   "cell_type": "markdown",
   "metadata": {},
   "source": [
    "## Testing if dataset contains any empty values"
   ]
  },
  {
   "cell_type": "code",
   "execution_count": 7,
   "metadata": {
    "scrolled": true
   },
   "outputs": [
    {
     "name": "stdout",
     "output_type": "stream",
     "text": [
      "Index 1554  is not correct\n",
      "\n",
      "['Market Update Helper', 'LIBRARIES_AND_DEMO', '4.1', '20145', '11k', '1,000,000+', 'Free', '0', 'Everyone', 'Libraries & Demo', 'February 12, 2013', '', '1.5 and up']\n",
      "finished\n"
     ]
    }
   ],
   "source": [
    "for i in range(1,len(play_store)):\n",
    "    for x in range (0 , 12):\n",
    "        test_value = str(play_store[i][x])\n",
    "    if not test_value:\n",
    "        print (\"Index\" , i , \" is not correct\")\n",
    "        print (play_store[i][x])\n",
    "        print (play_store[i])\n",
    "    \n",
    "print (\"finished\")"
   ]
  },
  {
   "cell_type": "code",
   "execution_count": 8,
   "metadata": {},
   "outputs": [],
   "source": [
    "del play_store[1553]\n",
    "#Index 1553 was incorrect"
   ]
  },
  {
   "cell_type": "markdown",
   "metadata": {},
   "source": [
    "## Duplicates\n",
    "When looking through the data we see that there are many cases where there are duplicates of apps. Example given below "
   ]
  },
  {
   "cell_type": "code",
   "execution_count": 9,
   "metadata": {},
   "outputs": [
    {
     "name": "stdout",
     "output_type": "stream",
     "text": [
      "['Instagram', 'SOCIAL', '4.5', '66577313', 'Varies with device', '1,000,000,000+', 'Free', '0', 'Teen', 'Social', 'July 31, 2018', 'Varies with device', 'Varies with device']\n",
      "['Instagram', 'SOCIAL', '4.5', '66577446', 'Varies with device', '1,000,000,000+', 'Free', '0', 'Teen', 'Social', 'July 31, 2018', 'Varies with device', 'Varies with device']\n",
      "['Instagram', 'SOCIAL', '4.5', '66577313', 'Varies with device', '1,000,000,000+', 'Free', '0', 'Teen', 'Social', 'July 31, 2018', 'Varies with device', 'Varies with device']\n",
      "['Instagram', 'SOCIAL', '4.5', '66509917', 'Varies with device', '1,000,000,000+', 'Free', '0', 'Teen', 'Social', 'July 31, 2018', 'Varies with device', 'Varies with device']\n"
     ]
    }
   ],
   "source": [
    "for app in play_store:\n",
    "    name = app[0]\n",
    "    if name == \"Instagram\":\n",
    "        print (app)"
   ]
  },
  {
   "cell_type": "markdown",
   "metadata": {},
   "source": [
    "It can be seen that there are 4 duplicates for Instagram. They all seem the same except for the Rating column, so we can base our pick from the bunch on that (highest number means the latest add so we take that one)"
   ]
  },
  {
   "cell_type": "markdown",
   "metadata": {},
   "source": [
    "### Getting all duplicate apps"
   ]
  },
  {
   "cell_type": "code",
   "execution_count": 10,
   "metadata": {},
   "outputs": [
    {
     "name": "stdout",
     "output_type": "stream",
     "text": [
      "Number of duplicate apps:  1181\n",
      "\n",
      "\n",
      "Example of duplicate apps:  ['Quick PDF Scanner + OCR FREE', 'Box', 'Google My Business', 'ZOOM Cloud Meetings', 'join.me - Simple Meetings', 'Box', 'Zenefits', 'Google Ads', 'Google My Business', 'Slack', 'FreshBooks Classic', 'Insightly CRM', 'QuickBooks Accounting: Invoicing & Expenses', 'HipChat - Chat Built for Teams', 'Xero Accounting Software']\n"
     ]
    }
   ],
   "source": [
    "duplicate_apps = []\n",
    "unique_apps = []\n",
    "\n",
    "\n",
    "for app in play_store:\n",
    "    name = app[0]\n",
    "    \n",
    "    if name in unique_apps:\n",
    "        duplicate_apps.append(name)\n",
    "    else :\n",
    "        unique_apps.append(name)\n",
    "        \n",
    "print (\"Number of duplicate apps: \", len(duplicate_apps))\n",
    "print (\"\\n\")\n",
    "print (\"Example of duplicate apps: \", duplicate_apps[:15])"
   ]
  },
  {
   "cell_type": "markdown",
   "metadata": {},
   "source": [
    "### Selecting the best pick\n"
   ]
  },
  {
   "cell_type": "code",
   "execution_count": 11,
   "metadata": {},
   "outputs": [],
   "source": [
    "del play_store[0]\n",
    "del app_store[0]\n",
    "del play_store[10471]\n"
   ]
  },
  {
   "cell_type": "code",
   "execution_count": 12,
   "metadata": {},
   "outputs": [
    {
     "name": "stdout",
     "output_type": "stream",
     "text": [
      "['osmino Wi-Fi: free WiFi', 'TOOLS', '4.2', '134203', '4.1M', '10,000,000+', 'Free', '0', 'Everyone', 'Tools', 'August 7, 2018', '6.06.14', '4.4 and up']\n"
     ]
    }
   ],
   "source": [
    "print (play_store[10471])"
   ]
  },
  {
   "cell_type": "code",
   "execution_count": 13,
   "metadata": {},
   "outputs": [],
   "source": [
    "reviews = {}\n",
    "x = 0\n",
    "\n",
    "for app in play_store:\n",
    "    name = app[0]\n",
    "    x+=1\n",
    "    n_reviews = float(app[3])\n",
    "\n",
    "    if name in reviews and reviews[name] < n_reviews:\n",
    "        reviews[name] = n_reviews\n",
    "\n",
    "    elif name not in reviews:\n",
    "        reviews[name] = n_reviews\n"
   ]
  },
  {
   "cell_type": "code",
   "execution_count": 14,
   "metadata": {},
   "outputs": [],
   "source": [
    "android_clean = []\n",
    "already_added = []\n",
    "\n",
    "for app in play_store:\n",
    "    name = app[0]\n",
    "    \n",
    "    n_reviews = float(app[3])\n",
    "    \n",
    "\n",
    "    if (reviews[name] == n_reviews) and (name not in already_added):\n",
    "        android_clean.append(app)\n",
    "        already_added.append(name)\n",
    "                "
   ]
  },
  {
   "cell_type": "code",
   "execution_count": 15,
   "metadata": {},
   "outputs": [
    {
     "name": "stdout",
     "output_type": "stream",
     "text": [
      "['Photo Editor & Candy Camera & Grid & ScrapBook', 'ART_AND_DESIGN', '4.1', '159', '19M', '10,000+', 'Free', '0', 'Everyone', 'Art & Design', 'January 7, 2018', '1.0.0', '4.0.3 and up']\n",
      "\n",
      "\n",
      "['U Launcher Lite – FREE Live Cool Themes, Hide Apps', 'ART_AND_DESIGN', '4.7', '87510', '8.7M', '5,000,000+', 'Free', '0', 'Everyone', 'Art & Design', 'August 1, 2018', '1.2.4', '4.0.3 and up']\n",
      "\n",
      "\n",
      "['Sketch - Draw & Paint', 'ART_AND_DESIGN', '4.5', '215644', '25M', '50,000,000+', 'Free', '0', 'Teen', 'Art & Design', 'June 8, 2018', 'Varies with device', '4.2 and up']\n",
      "\n",
      "\n",
      "Number of rows: 9658\n",
      "Number of columns: 13\n"
     ]
    }
   ],
   "source": [
    "explore_data(android_clean, 0, 3, True)\n"
   ]
  },
  {
   "cell_type": "markdown",
   "metadata": {},
   "source": [
    "## removes all the non english apps from play store"
   ]
  },
  {
   "cell_type": "code",
   "execution_count": 100,
   "metadata": {
    "scrolled": true
   },
   "outputs": [
    {
     "name": "stdout",
     "output_type": "stream",
     "text": [
      "\n",
      "\n",
      "\n",
      "There are  1  apps that are non-english\n"
     ]
    }
   ],
   "source": [
    "iterator = 0\n",
    "rowCounter = 0\n",
    "def isEnglish (string):\n",
    "    nonEnglishCounter = 0\n",
    "    for char in string:\n",
    "        if (ord(char) > 127):\n",
    "            nonEnglishCounter += 1\n",
    "    if nonEnglishCounter > 3:\n",
    "        return False\n",
    "    else:\n",
    "        return True\n",
    "\n",
    "for x in android_clean:\n",
    "    \n",
    "    if isEnglish(x[0]) is False:\n",
    "        rowCounter += 1\n",
    "        del android_clean[iterator]\n",
    "    iterator += 1    \n",
    "print (\"\\n\\n\")        \n",
    "print (\"There are \" , rowCounter, \" apps that are non-english\")"
   ]
  },
  {
   "cell_type": "markdown",
   "metadata": {},
   "source": [
    "## removes all the non english apps from app store"
   ]
  },
  {
   "cell_type": "code",
   "execution_count": 101,
   "metadata": {},
   "outputs": [
    {
     "name": "stdout",
     "output_type": "stream",
     "text": [
      "\n",
      "\n",
      "\n",
      "There are  0  apps that are non-english\n"
     ]
    }
   ],
   "source": [
    "iterator = 0\n",
    "rowCounter = 0\n",
    "def isEnglish (string):\n",
    "    nonEnglishCounter = 0\n",
    "    for char in string:\n",
    "        if (ord(char) > 127):\n",
    "            nonEnglishCounter += 1\n",
    "    if nonEnglishCounter > 3:\n",
    "        return False\n",
    "    else:\n",
    "        return True\n",
    "\n",
    "for x in app_store:\n",
    "    if isEnglish(x[1]) is False:\n",
    "        rowCounter += 1\n",
    "        del app_store[iterator]\n",
    "    iterator += 1    \n",
    "print (\"\\n\\n\")        \n",
    "print (\"There are \" , rowCounter, \" apps that are non-english\")"
   ]
  },
  {
   "cell_type": "markdown",
   "metadata": {},
   "source": [
    "## Getting only the free apps from play store"
   ]
  },
  {
   "cell_type": "code",
   "execution_count": 102,
   "metadata": {},
   "outputs": [
    {
     "name": "stdout",
     "output_type": "stream",
     "text": [
      "There are  8862  free apps on play store\n",
      "There are  751  paid apps on play store\n"
     ]
    }
   ],
   "source": [
    "free_apps_android = []\n",
    "paid_android = []\n",
    "\n",
    "for x in range(len(android_clean)) :\n",
    "    if android_clean[x][6] == \"Free\" :\n",
    "        free_apps_android.append(android_clean[x])\n",
    "    else:\n",
    "        paid_android.append(android_clean[x])\n",
    "        \n",
    "        \n",
    "print (\"There are \" , len(free_apps_android) , \" free apps on play store\")\n",
    "print (\"There are \" , len(paid_android) , \" paid apps on play store\")"
   ]
  },
  {
   "cell_type": "markdown",
   "metadata": {},
   "source": [
    "## Getting only the free apps from play store"
   ]
  },
  {
   "cell_type": "code",
   "execution_count": 103,
   "metadata": {},
   "outputs": [
    {
     "name": "stdout",
     "output_type": "stream",
     "text": [
      "There are  3222  free apps on app store\n",
      "There are  2961  paid apps on app store\n"
     ]
    }
   ],
   "source": [
    "free_apps_ios = []\n",
    "paid_ios = []\n",
    "\n",
    "for x in range(len(app_store)) :\n",
    "    if app_store[x][4] == \"0.0\" :\n",
    "        free_apps_ios.append(app_store[x])\n",
    "    else:\n",
    "        paid_ios.append(app_store[x])\n",
    "        \n",
    "print (\"There are \" , len(free_apps_ios) , \" free apps on app store\")\n",
    "print (\"There are \" , len(paid_ios) , \" paid apps on app store\")"
   ]
  },
  {
   "cell_type": "markdown",
   "metadata": {},
   "source": [
    "## We want to find an app profile that would suit both App Store and Google Play store so we could play on both markets and make use of the wider audience that comes from 2 biggest online app stores. "
   ]
  },
  {
   "cell_type": "code",
   "execution_count": 104,
   "metadata": {},
   "outputs": [
    {
     "name": "stdout",
     "output_type": "stream",
     "text": [
      "['id', 'track_name', 'size_bytes', 'currency', 'price', 'rating_count_tot', 'rating_count_ver', 'user_rating', 'user_rating_ver', 'ver', 'cont_rating', 'prime_genre', 'sup_devices.num', 'ipadSc_urls.num', 'lang.num', 'vpp_lic']\n"
     ]
    }
   ],
   "source": [
    "print(app_store_header)"
   ]
  },
  {
   "cell_type": "code",
   "execution_count": 105,
   "metadata": {},
   "outputs": [
    {
     "name": "stdout",
     "output_type": "stream",
     "text": [
      "['App', 'Category', 'Rating', 'Reviews', 'Size', 'Installs', 'Type', 'Price', 'Content Rating', 'Genres', 'Last Updated', 'Current Ver', 'Android Ver']\n"
     ]
    }
   ],
   "source": [
    "print(play_store_header)"
   ]
  },
  {
   "cell_type": "markdown",
   "metadata": {},
   "source": [
    "## We want to choose columns to put into our frequency table to get the most common genres in each market. "
   ]
  },
  {
   "cell_type": "markdown",
   "metadata": {},
   "source": [
    "### App store : prime_genre"
   ]
  },
  {
   "cell_type": "markdown",
   "metadata": {},
   "source": [
    "### Play store : category,genres "
   ]
  },
  {
   "cell_type": "markdown",
   "metadata": {},
   "source": [
    "# Creating frequency tables "
   ]
  },
  {
   "cell_type": "code",
   "execution_count": 106,
   "metadata": {},
   "outputs": [],
   "source": [
    "def freq_table(dataset, index):\n",
    "    f_table = {}\n",
    "    total = 0\n",
    "    \n",
    "    for row in dataset:\n",
    "        total+=1\n",
    "        value = row[index]\n",
    "        if value in f_table:\n",
    "            f_table[value] += 1\n",
    "        else:\n",
    "            f_table[value] = 1\n",
    "    \n",
    "    percentages = {}\n",
    "    \n",
    "    \n",
    "    for key in f_table:\n",
    "        percentage = (f_table[key] / total) * 100\n",
    "        percentages[key] = percentage \n",
    "    \n",
    "    return percentages"
   ]
  },
  {
   "cell_type": "code",
   "execution_count": 107,
   "metadata": {},
   "outputs": [],
   "source": [
    "def display_table(dataset, index):\n",
    "    table = freq_table(dataset, index)\n",
    "    table_display = []\n",
    "    for key in table:\n",
    "        key_val_as_tuple = (table[key], key)\n",
    "        table_display.append(key_val_as_tuple)\n",
    "\n",
    "    table_sorted = sorted(table_display, reverse = True)\n",
    "    for entry in table_sorted:\n",
    "        print(entry[1], ':', entry[0])"
   ]
  },
  {
   "cell_type": "code",
   "execution_count": 108,
   "metadata": {},
   "outputs": [
    {
     "name": "stdout",
     "output_type": "stream",
     "text": [
      "Games : 58.16263190564867\n",
      "Entertainment : 7.883302296710118\n",
      "Photo & Video : 4.9658597144630665\n",
      "Education : 3.662321539416512\n",
      "Social Networking : 3.2898820608317814\n",
      "Shopping : 2.60707635009311\n",
      "Utilities : 2.5139664804469275\n",
      "Sports : 2.1415270018621975\n",
      "Music : 2.0484171322160147\n",
      "Health & Fitness : 2.0173805090006205\n",
      "Productivity : 1.7380509000620732\n",
      "Lifestyle : 1.5828677839851024\n",
      "News : 1.3345747982619491\n",
      "Travel : 1.2414649286157666\n",
      "Finance : 1.1173184357541899\n",
      "Weather : 0.8690254500310366\n",
      "Food & Drink : 0.8069522036002483\n",
      "Reference : 0.5586592178770949\n",
      "Business : 0.5276225946617008\n",
      "Book : 0.4345127250155183\n",
      "Navigation : 0.186219739292365\n",
      "Medical : 0.186219739292365\n",
      "Catalogs : 0.12414649286157665\n"
     ]
    }
   ],
   "source": [
    "display_table(free_apps_ios, -5)"
   ]
  },
  {
   "cell_type": "markdown",
   "metadata": {},
   "source": [
    "### As it can be seen Games is the most common genre with a strong 55.65% majority, with the runner up being Entertainment with only 8.23% It can be seen though free time and leisure activities are the most frequenctly downloaded. The overall impression is that entertainment is the most popular genre in app store with majority of apps falling unde the Games column, but that does not mean that they have the biggest user base, that is just that they have a large offer."
   ]
  },
  {
   "cell_type": "markdown",
   "metadata": {},
   "source": [
    "## Getting the frequency table for Google Play store"
   ]
  },
  {
   "cell_type": "markdown",
   "metadata": {},
   "source": [
    "### Based on Category"
   ]
  },
  {
   "cell_type": "code",
   "execution_count": 109,
   "metadata": {},
   "outputs": [
    {
     "name": "stdout",
     "output_type": "stream",
     "text": [
      "FAMILY : 18.900925299029563\n",
      "GAME : 9.726923944933423\n",
      "TOOLS : 8.463100880162491\n",
      "BUSINESS : 4.5926427443015125\n",
      "LIFESTYLE : 3.9043105393816293\n",
      "PRODUCTIVITY : 3.8930264048747465\n",
      "FINANCE : 3.7011961182577298\n",
      "MEDICAL : 3.5319341006544795\n",
      "SPORTS : 3.39652448657188\n",
      "PERSONALIZATION : 3.3175355450236967\n",
      "COMMUNICATION : 3.238546603475513\n",
      "HEALTH_AND_FITNESS : 3.080568720379147\n",
      "PHOTOGRAPHY : 2.945159106296547\n",
      "NEWS_AND_MAGAZINES : 2.798465357707064\n",
      "SOCIAL : 2.663055743624464\n",
      "TRAVEL_AND_LOCAL : 2.335815842924848\n",
      "SHOPPING : 2.2455427668697814\n",
      "BOOKS_AND_REFERENCE : 2.143985556307831\n",
      "DATING : 1.8618821936357481\n",
      "VIDEO_PLAYERS : 1.7941773865944481\n",
      "MAPS_AND_NAVIGATION : 1.399232678853532\n",
      "FOOD_AND_DRINK : 1.2412547957571656\n",
      "EDUCATION : 1.162265854208982\n",
      "ENTERTAINMENT : 0.9591514330850823\n",
      "LIBRARIES_AND_DEMO : 0.9252990295644324\n",
      "AUTO_AND_VEHICLES : 0.9252990295644324\n",
      "HOUSE_AND_HOME : 0.8237418190024826\n",
      "WEATHER : 0.8011735499887158\n",
      "EVENTS : 0.7109004739336493\n",
      "PARENTING : 0.6544798013992327\n",
      "ART_AND_DESIGN : 0.6431956668923494\n",
      "COMICS : 0.6206273978785828\n",
      "BEAUTY : 0.598059128864816\n"
     ]
    }
   ],
   "source": [
    "display_table(free_apps_android, 1)"
   ]
  },
  {
   "cell_type": "markdown",
   "metadata": {},
   "source": [
    "## It can be seen that the most popular Category is Family with 18.9% and Game coming in second with 9.7% and Tools and Business coming after it with 8.5% and 4.6% respectively. Here it seems to be of a wider audience of categories, with a mix of free time, leisure and productivity purposes. "
   ]
  },
  {
   "cell_type": "markdown",
   "metadata": {},
   "source": [
    "### Based on Genres\n"
   ]
  },
  {
   "cell_type": "code",
   "execution_count": 110,
   "metadata": {},
   "outputs": [
    {
     "name": "stdout",
     "output_type": "stream",
     "text": [
      "Tools : 8.451816745655607\n",
      "Entertainment : 6.070864364703228\n",
      "Education : 5.348679756262695\n",
      "Business : 4.5926427443015125\n",
      "Productivity : 3.8930264048747465\n",
      "Lifestyle : 3.8930264048747465\n",
      "Finance : 3.7011961182577298\n",
      "Medical : 3.5319341006544795\n",
      "Sports : 3.4642292936131795\n",
      "Personalization : 3.3175355450236967\n",
      "Communication : 3.238546603475513\n",
      "Action : 3.1031369893929135\n",
      "Health & Fitness : 3.080568720379147\n",
      "Photography : 2.945159106296547\n",
      "News & Magazines : 2.798465357707064\n",
      "Social : 2.663055743624464\n",
      "Travel & Local : 2.324531708417964\n",
      "Shopping : 2.2455427668697814\n",
      "Books & Reference : 2.143985556307831\n",
      "Simulation : 2.0424283457458814\n",
      "Dating : 1.8618821936357481\n",
      "Arcade : 1.8505980591288649\n",
      "Video Players & Editors : 1.7716091175806816\n",
      "Casual : 1.7603249830737984\n",
      "Maps & Navigation : 1.399232678853532\n",
      "Food & Drink : 1.2412547957571656\n",
      "Puzzle : 1.128413450688332\n",
      "Racing : 0.9930038366057323\n",
      "Role Playing : 0.9365831640713158\n",
      "Libraries & Demo : 0.9252990295644324\n",
      "Auto & Vehicles : 0.9252990295644324\n",
      "Strategy : 0.9027307605506657\n",
      "House & Home : 0.8237418190024826\n",
      "Weather : 0.8011735499887158\n",
      "Events : 0.7109004739336493\n",
      "Adventure : 0.6770480704129994\n",
      "Comics : 0.6093432633716994\n",
      "Beauty : 0.598059128864816\n",
      "Art & Design : 0.598059128864816\n",
      "Parenting : 0.49650191830286616\n",
      "Card : 0.45136538027533285\n",
      "Casino : 0.4287971112615662\n",
      "Trivia : 0.41751297675468296\n",
      "Educational;Education : 0.3949447077409162\n",
      "Board : 0.3836605732340329\n",
      "Educational : 0.3723764387271496\n",
      "Education;Education : 0.3385240352064997\n",
      "Word : 0.2595350936583164\n",
      "Casual;Pretend Play : 0.23696682464454977\n",
      "Music : 0.2031144211238998\n",
      "Racing;Action & Adventure : 0.16926201760324985\n",
      "Puzzle;Brain Games : 0.16926201760324985\n",
      "Entertainment;Music & Video : 0.16926201760324985\n",
      "Casual;Brain Games : 0.13540961408259986\n",
      "Casual;Action & Adventure : 0.13540961408259986\n",
      "Arcade;Action & Adventure : 0.12412547957571654\n",
      "Action;Action & Adventure : 0.1015572105619499\n",
      "Educational;Pretend Play : 0.09027307605506657\n",
      "Simulation;Action & Adventure : 0.07898894154818326\n",
      "Parenting;Education : 0.07898894154818326\n",
      "Entertainment;Brain Games : 0.07898894154818326\n",
      "Board;Brain Games : 0.07898894154818326\n",
      "Parenting;Music & Video : 0.06770480704129993\n",
      "Educational;Brain Games : 0.06770480704129993\n",
      "Casual;Creativity : 0.06770480704129993\n",
      "Art & Design;Creativity : 0.06770480704129993\n",
      "Education;Pretend Play : 0.056420672534416606\n",
      "Role Playing;Pretend Play : 0.045136538027533285\n",
      "Education;Creativity : 0.045136538027533285\n",
      "Role Playing;Action & Adventure : 0.033852403520649964\n",
      "Puzzle;Action & Adventure : 0.033852403520649964\n",
      "Entertainment;Creativity : 0.033852403520649964\n",
      "Entertainment;Action & Adventure : 0.033852403520649964\n",
      "Educational;Creativity : 0.033852403520649964\n",
      "Educational;Action & Adventure : 0.033852403520649964\n",
      "Education;Music & Video : 0.033852403520649964\n",
      "Education;Brain Games : 0.033852403520649964\n",
      "Education;Action & Adventure : 0.033852403520649964\n",
      "Adventure;Action & Adventure : 0.033852403520649964\n",
      "Video Players & Editors;Music & Video : 0.022568269013766643\n",
      "Sports;Action & Adventure : 0.022568269013766643\n",
      "Simulation;Pretend Play : 0.022568269013766643\n",
      "Puzzle;Creativity : 0.022568269013766643\n",
      "Music;Music & Video : 0.022568269013766643\n",
      "Entertainment;Pretend Play : 0.022568269013766643\n",
      "Casual;Education : 0.022568269013766643\n",
      "Board;Action & Adventure : 0.022568269013766643\n",
      "Video Players & Editors;Creativity : 0.011284134506883321\n",
      "Trivia;Education : 0.011284134506883321\n",
      "Travel & Local;Action & Adventure : 0.011284134506883321\n",
      "Tools;Education : 0.011284134506883321\n",
      "Strategy;Education : 0.011284134506883321\n",
      "Strategy;Creativity : 0.011284134506883321\n",
      "Strategy;Action & Adventure : 0.011284134506883321\n",
      "Simulation;Education : 0.011284134506883321\n",
      "Role Playing;Brain Games : 0.011284134506883321\n",
      "Racing;Pretend Play : 0.011284134506883321\n",
      "Puzzle;Education : 0.011284134506883321\n",
      "Parenting;Brain Games : 0.011284134506883321\n",
      "Music & Audio;Music & Video : 0.011284134506883321\n",
      "Lifestyle;Pretend Play : 0.011284134506883321\n",
      "Lifestyle;Education : 0.011284134506883321\n",
      "Health & Fitness;Education : 0.011284134506883321\n",
      "Health & Fitness;Action & Adventure : 0.011284134506883321\n",
      "Entertainment;Education : 0.011284134506883321\n",
      "Communication;Creativity : 0.011284134506883321\n",
      "Comics;Creativity : 0.011284134506883321\n",
      "Casual;Music & Video : 0.011284134506883321\n",
      "Card;Action & Adventure : 0.011284134506883321\n",
      "Books & Reference;Education : 0.011284134506883321\n",
      "Art & Design;Pretend Play : 0.011284134506883321\n",
      "Art & Design;Action & Adventure : 0.011284134506883321\n",
      "Arcade;Pretend Play : 0.011284134506883321\n",
      "Adventure;Education : 0.011284134506883321\n"
     ]
    }
   ],
   "source": [
    "display_table(free_apps_android, -4)"
   ]
  },
  {
   "cell_type": "markdown",
   "metadata": {},
   "source": [
    "## It can be seen here that the most popular Genre is Tools with 8.5% and Entairtainment with 6.0% coming in close second and Education and Business following them with 5.3% and 4.6% respectively. Compared to App Store it seems to also have a wider varierty with practical purposes reigning over entertainment for the top spot, but not with too much of a percentage difference. Up to this point, we found that the App Store is dominated by apps designed for fun, while Google Play shows a more balanced landscape of both practical and for-fun apps. Now we'd like to get an idea about the kind of apps that have most users."
   ]
  },
  {
   "cell_type": "markdown",
   "metadata": {},
   "source": [
    "# Calculating the average number of user ratings per app genre, App Store"
   ]
  },
  {
   "cell_type": "code",
   "execution_count": 111,
   "metadata": {},
   "outputs": [],
   "source": [
    "def bubbleSort(arr, name_arr):\n",
    "    n = len(arr)\n",
    "  \n",
    "    # Traverse through all array elements\n",
    "    for i in range(n-1):\n",
    "    # range(n) also work but outer loop will repeat one time more than needed.\n",
    "  \n",
    "        # Last i elements are already in place\n",
    "        for j in range(0, n-i-1):\n",
    "  \n",
    "            # traverse the array from 0 to n-i-1\n",
    "            # Swap if the element found is greater\n",
    "            # than the next element\n",
    "            if arr[j] > arr[j + 1] :\n",
    "                arr[j], arr[j + 1] = arr[j + 1], arr[j]\n",
    "                name_arr[j], name_arr[j + 1] = name_arr[j + 1], name_arr[j]"
   ]
  },
  {
   "cell_type": "code",
   "execution_count": 112,
   "metadata": {},
   "outputs": [
    {
     "name": "stdout",
     "output_type": "stream",
     "text": [
      "Medical : 612.0\n",
      "Catalogs : 4004.0\n",
      "Education : 7003.983050847458\n",
      "Business : 7491.117647058823\n",
      "Entertainment : 14029.830708661417\n",
      "Lifestyle : 16485.764705882353\n",
      "Utilities : 18684.456790123455\n",
      "Productivity : 21028.410714285714\n",
      "News : 21248.023255813954\n",
      "Games : 22788.6696905016\n",
      "Sports : 23008.898550724636\n",
      "Health & Fitness : 23298.015384615384\n",
      "Shopping : 26919.690476190477\n",
      "Travel : 28243.8\n",
      "Photo & Video : 28441.54375\n",
      "Finance : 31467.944444444445\n",
      "Food & Drink : 33333.92307692308\n",
      "Book : 39758.5\n",
      "Weather : 52279.892857142855\n",
      "Music : 57326.530303030304\n",
      "Social Networking : 71548.34905660378\n",
      "Reference : 74942.11111111111\n",
      "Navigation : 86090.33333333333\n"
     ]
    }
   ],
   "source": [
    "app_genres = freq_table(free_apps_ios, -5)\n",
    "values = []\n",
    "names = []\n",
    "\n",
    "for genre in app_genres.keys():\n",
    "    total = 0\n",
    "    len_genre = 0\n",
    "   \n",
    "    for genre_app in free_apps_ios:\n",
    "        \n",
    "        if genre_app[-5] == genre:\n",
    "            num_user_ratings = float(genre_app[-11])\n",
    "            total += num_user_ratings\n",
    "            len_genre += 1\n",
    "    average_total_lengenre = total / len_genre\n",
    "    \n",
    "    values.append(average_total_lengenre)\n",
    "    names.append(genre)\n",
    "    \n",
    "bubbleSort(values, names)\n",
    "\n",
    "for i in range(len(values)):\n",
    "    print('{} : {}'.format(names[i], values[i]))\n",
    "    "
   ]
  },
  {
   "cell_type": "markdown",
   "metadata": {},
   "source": [
    "### Reference takes the top spot for most user ratings ( Reference apps include language translators, collaborative dictionaries, visual and computational search engines, and algebraic and scientific calculators. ), below we print some apps to get an idea what they contain"
   ]
  },
  {
   "cell_type": "code",
   "execution_count": 164,
   "metadata": {},
   "outputs": [],
   "source": [
    "def getAppsOnCategory(applist, index, columnName, count):\n",
    "    \n",
    "    result = []\n",
    "    \n",
    "    counter = 0\n",
    "    for app in applist:\n",
    "        if app[index] == columnName and count > counter:\n",
    "            result.append(app)\n",
    "    return result\n",
    "    "
   ]
  },
  {
   "cell_type": "code",
   "execution_count": 167,
   "metadata": {},
   "outputs": [],
   "source": [
    "def getAppsOnCategoryNoReturn(applist, index, columnName, count):\n",
    "    \n",
    "    result = []\n",
    "    \n",
    "    counter = 0\n",
    "    for app in applist:\n",
    "        if app[index] == columnName and count > counter:\n",
    "            result.append(app)\n",
    "    for x in result:\n",
    "        print('{} : {}'.format(x[1], x[5]))"
   ]
  },
  {
   "cell_type": "code",
   "execution_count": 152,
   "metadata": {},
   "outputs": [],
   "source": [
    "def getTopAppsIOS(applist, index, columnName, count):\n",
    "    \n",
    "    result = []\n",
    "    \n",
    "    suitableApps = getAppsOnCategory(applist, index, columnName, 100000000)\n",
    "    \n",
    "    \n",
    "    for app in suitableApps:\n",
    "        indexCounter = 0\n",
    "        if len(result) < count:\n",
    "            result.append(app)\n",
    "        else :\n",
    "            for x in result:\n",
    "                if app[5] > x[5]:\n",
    "                    x.pop(indexCounter)\n",
    "                    x.append(app)\n",
    "                    break\n",
    "                indexCounter += 1\n",
    "                \n",
    "    for x in result:\n",
    "        print('{} : {}'.format(x[1], x[5]))"
   ]
  },
  {
   "cell_type": "code",
   "execution_count": 153,
   "metadata": {},
   "outputs": [],
   "source": [
    "#getAppsOnCategory(free_apps_ios, -5, \"Reference\", 10)"
   ]
  },
  {
   "cell_type": "markdown",
   "metadata": {},
   "source": [
    "### They take the top spot but we have to take into discussion that this also includes Google translate that has a very large user base"
   ]
  },
  {
   "cell_type": "code",
   "execution_count": 156,
   "metadata": {
    "scrolled": false
   },
   "outputs": [
    {
     "name": "stdout",
     "output_type": "stream",
     "text": [
      "Bible : 985920\n"
     ]
    }
   ],
   "source": [
    "getTopAppsIOS(free_apps_ios, -5, \"Reference\", 1)"
   ]
  },
  {
   "cell_type": "markdown",
   "metadata": {},
   "source": [
    "### We can see that the top apps is bible that skews the results, but it still shows potential that we could create another popular book, as we saw before that for fun apps are more popular in app store."
   ]
  },
  {
   "cell_type": "markdown",
   "metadata": {},
   "source": [
    "# Calculating the average number of user ratings per app genre, Play Store"
   ]
  },
  {
   "cell_type": "code",
   "execution_count": 162,
   "metadata": {},
   "outputs": [
    {
     "name": "stdout",
     "output_type": "stream",
     "text": [
      "MEDICAL : 120550.61980830671\n",
      "EVENTS : 253542.22222222222\n",
      "BEAUTY : 513151.88679245283\n",
      "PARENTING : 542603.6206896552\n",
      "LIBRARIES_AND_DEMO : 646168.4146341464\n",
      "AUTO_AND_VEHICLES : 647317.8170731707\n",
      "COMICS : 817657.2727272727\n",
      "DATING : 854028.8303030303\n",
      "HOUSE_AND_HOME : 1331540.5616438356\n",
      "FINANCE : 1387692.475609756\n",
      "LIFESTYLE : 1437816.2687861272\n",
      "BUSINESS : 1712290.1474201474\n",
      "EDUCATION : 1833495.145631068\n",
      "FOOD_AND_DRINK : 1924897.7363636363\n",
      "ART_AND_DESIGN : 1986335.0877192982\n",
      "SPORTS : 3638640.1428571427\n",
      "FAMILY : 3697848.1731343283\n",
      "MAPS_AND_NAVIGATION : 4056941.7741935486\n",
      "HEALTH_AND_FITNESS : 4188821.9853479853\n",
      "WEATHER : 5074486.197183099\n",
      "PERSONALIZATION : 5201482.6122448975\n",
      "SHOPPING : 7036877.311557789\n",
      "BOOKS_AND_REFERENCE : 8767811.894736841\n",
      "NEWS_AND_MAGAZINES : 9549178.467741935\n",
      "TOOLS : 10801391.298666667\n",
      "ENTERTAINMENT : 11640705.88235294\n",
      "TRAVEL_AND_LOCAL : 13984077.710144928\n",
      "GAME : 15588015.603248259\n",
      "PRODUCTIVITY : 16787331.344927534\n",
      "PHOTOGRAPHY : 17840110.40229885\n",
      "SOCIAL : 23253652.127118643\n",
      "VIDEO_PLAYERS : 24727872.452830188\n",
      "COMMUNICATION : 38456119.167247385\n"
     ]
    }
   ],
   "source": [
    "app_genres = freq_table(free_apps_android, 1)\n",
    "values = []\n",
    "names = []\n",
    "\n",
    "for genre in app_genres.keys():\n",
    "    total = 0\n",
    "    len_genre = 0\n",
    "   \n",
    "    for genre_app in free_apps_android:\n",
    "        \n",
    "        if genre_app[1] == genre:\n",
    "            n_installs = genre_app[5]\n",
    "            n_installs = n_installs.replace('+', '')\n",
    "            n_installs = n_installs.replace(',', '')\n",
    "            n_installs = float(n_installs)\n",
    "            total += n_installs\n",
    "            len_genre += 1\n",
    "    average_total_lengenre = total / len_genre\n",
    "    \n",
    "    values.append(average_total_lengenre)\n",
    "    names.append(genre)\n",
    "    \n",
    "bubbleSort(values, names)\n",
    "\n",
    "for i in range(len(values)):\n",
    "    print('{} : {}'.format(names[i], values[i]))\n",
    "    "
   ]
  },
  {
   "cell_type": "markdown",
   "metadata": {},
   "source": [
    "### We can see that communication takes the top spot so lets investigate that closer"
   ]
  },
  {
   "cell_type": "code",
   "execution_count": 170,
   "metadata": {},
   "outputs": [
    {
     "name": "stdout",
     "output_type": "stream",
     "text": [
      "WhatsApp Messenger : 1,000,000,000+\n",
      "imo beta free calls and text : 100,000,000+\n",
      "Android Messages : 100,000,000+\n",
      "Google Duo - High Quality Video Calls : 500,000,000+\n",
      "Messenger – Text and Video Chat for Free : 1,000,000,000+\n",
      "imo free video calls and chat : 500,000,000+\n",
      "Skype - free IM & video calls : 1,000,000,000+\n",
      "Who : 100,000,000+\n",
      "GO SMS Pro - Messenger, Free Themes, Emoji : 100,000,000+\n",
      "LINE: Free Calls & Messages : 500,000,000+\n",
      "Google Chrome: Fast & Secure : 1,000,000,000+\n",
      "Firefox Browser fast & private : 100,000,000+\n",
      "UC Browser - Fast Download Private & Secure : 500,000,000+\n",
      "Gmail : 1,000,000,000+\n",
      "Hangouts : 1,000,000,000+\n",
      "Messenger Lite: Free Calls & Messages : 100,000,000+\n",
      "Kik : 100,000,000+\n",
      "KakaoTalk: Free Calls & Text : 100,000,000+\n",
      "Opera Mini - fast web browser : 100,000,000+\n",
      "Opera Browser: Fast and Secure : 100,000,000+\n",
      "Telegram : 100,000,000+\n",
      "Truecaller: Caller ID, SMS spam blocking & Dialer : 100,000,000+\n",
      "UC Browser Mini -Tiny Fast Private & Secure : 100,000,000+\n",
      "Viber Messenger : 500,000,000+\n",
      "WeChat : 100,000,000+\n",
      "Yahoo Mail – Stay Organized : 100,000,000+\n",
      "BBM - Free Calls & Messages : 100,000,000+\n"
     ]
    }
   ],
   "source": [
    "for app in free_apps_android:\n",
    "    if app[1] == 'COMMUNICATION' and (app[5] == '1,000,000,000+'\n",
    "                                      or app[5] == '500,000,000+'\n",
    "                                      or app[5] == '100,000,000+'):\n",
    "        print(app[0], ':', app[5])"
   ]
  },
  {
   "cell_type": "markdown",
   "metadata": {},
   "source": [
    "### As we can see the results are heavily skewed by very highly popular apps such as whatsapp, messenger, skype, gmail, hangouts that have over a billion downloads"
   ]
  },
  {
   "cell_type": "markdown",
   "metadata": {},
   "source": [
    "### However, if we decided to remove all communication apps over 100M downloads we get a better average"
   ]
  },
  {
   "cell_type": "code",
   "execution_count": 171,
   "metadata": {},
   "outputs": [
    {
     "data": {
      "text/plain": [
       "3603485.3884615386"
      ]
     },
     "execution_count": 171,
     "metadata": {},
     "output_type": "execute_result"
    }
   ],
   "source": [
    "under_100_m = []\n",
    "\n",
    "for app in free_apps_android:\n",
    "    n_installs = app[5]\n",
    "    n_installs = n_installs.replace(',', '')\n",
    "    n_installs = n_installs.replace('+', '')\n",
    "    if (app[1] == 'COMMUNICATION') and (float(n_installs) < 100000000):\n",
    "        under_100_m.append(float(n_installs))\n",
    "        \n",
    "sum(under_100_m) / len(under_100_m)"
   ]
  },
  {
   "cell_type": "markdown",
   "metadata": {},
   "source": [
    "### We can see that the average was reduced by roughly ten times, and a similar pattern would follow for video players category. There the biggest apps are such of the likes of YouTube, Google PLay Movies & TV and MX player. The same pattern follows for social apps (Facebook, Instagram), photography apps (Google photos) or producutvity apps (Microsoft word, dropbox)\n",
    "\n",
    "### This makes it seem like the app genres are more popular than they really are, but rather there are just a few bigger ones that skew the results\n",
    "\n",
    "### The books and reference seems popular as well that is not too saturated and also has a potential market on app store"
   ]
  },
  {
   "cell_type": "code",
   "execution_count": 173,
   "metadata": {},
   "outputs": [
    {
     "name": "stdout",
     "output_type": "stream",
     "text": [
      "E-Book Read - Read Book for free : 50,000+\n",
      "Download free book with green book : 100,000+\n",
      "Wikipedia : 10,000,000+\n",
      "Cool Reader : 10,000,000+\n",
      "Free Panda Radio Music : 100,000+\n",
      "Book store : 1,000,000+\n",
      "FBReader: Favorite Book Reader : 10,000,000+\n",
      "English Grammar Complete Handbook : 500,000+\n",
      "Free Books - Spirit Fanfiction and Stories : 1,000,000+\n",
      "Google Play Books : 1,000,000,000+\n",
      "AlReader -any text book reader : 5,000,000+\n",
      "Offline English Dictionary : 100,000+\n",
      "Offline: English to Tagalog Dictionary : 500,000+\n",
      "FamilySearch Tree : 1,000,000+\n",
      "Cloud of Books : 1,000,000+\n",
      "Recipes of Prophetic Medicine for free : 500,000+\n",
      "ReadEra – free ebook reader : 1,000,000+\n",
      "Anonymous caller detection : 10,000+\n",
      "Ebook Reader : 5,000,000+\n",
      "Litnet - E-books : 100,000+\n",
      "Read books online : 5,000,000+\n",
      "English to Urdu Dictionary : 500,000+\n",
      "eBoox: book reader fb2 epub zip : 1,000,000+\n",
      "English Persian Dictionary : 500,000+\n",
      "Flybook : 500,000+\n",
      "All Maths Formulas : 1,000,000+\n",
      "Ancestry : 5,000,000+\n",
      "HTC Help : 10,000,000+\n",
      "English translation from Bengali : 100,000+\n",
      "Pdf Book Download - Read Pdf Book : 100,000+\n",
      "Free Book Reader : 100,000+\n",
      "eBoox new: Reader for fb2 epub zip books : 50,000+\n",
      "Only 30 days in English, the guideline is guaranteed : 500,000+\n",
      "Moon+ Reader : 10,000,000+\n",
      "SH-02J Owner's Manual (Android 8.0) : 50,000+\n",
      "English-Myanmar Dictionary : 1,000,000+\n",
      "Golden Dictionary (EN-AR) : 1,000,000+\n",
      "All Language Translator Free : 1,000,000+\n",
      "Azpen eReader : 500,000+\n",
      "URBANO V 02 instruction manual : 100,000+\n",
      "Bible : 100,000,000+\n",
      "C Programs and Reference : 50,000+\n",
      "C Offline Tutorial : 1,000+\n",
      "C Programs Handbook : 50,000+\n",
      "Amazon Kindle : 100,000,000+\n",
      "Aab e Hayat Full Novel : 100,000+\n",
      "Aldiko Book Reader : 10,000,000+\n",
      "Google I/O 2018 : 500,000+\n",
      "R Language Reference Guide : 10,000+\n",
      "Learn R Programming Full : 5,000+\n",
      "R Programing Offline Tutorial : 1,000+\n",
      "Guide for R Programming : 5+\n",
      "Learn R Programming : 10+\n",
      "R Quick Reference Big Data : 1,000+\n",
      "V Made : 100,000+\n",
      "Wattpad 📖 Free Books : 100,000,000+\n",
      "Dictionary - WordWeb : 5,000,000+\n",
      "Guide (for X-MEN) : 100,000+\n",
      "AC Air condition Troubleshoot,Repair,Maintenance : 5,000+\n",
      "AE Bulletins : 1,000+\n",
      "Ae Allah na Dai (Rasa) : 10,000+\n",
      "50000 Free eBooks & Free AudioBooks : 5,000,000+\n",
      "Ag PhD Field Guide : 10,000+\n",
      "Ag PhD Deficiencies : 10,000+\n",
      "Ag PhD Planting Population Calculator : 1,000+\n",
      "Ag PhD Soybean Diseases : 1,000+\n",
      "Fertilizer Removal By Crop : 50,000+\n",
      "A-J Media Vault : 50+\n",
      "Al-Quran (Free) : 10,000,000+\n",
      "Al Quran (Tafsir & by Word) : 500,000+\n",
      "Al Quran Indonesia : 10,000,000+\n",
      "Al'Quran Bahasa Indonesia : 10,000,000+\n",
      "Al Quran Al karim : 1,000,000+\n",
      "Al-Muhaffiz : 50,000+\n",
      "Al Quran : EAlim - Translations & MP3 Offline : 5,000,000+\n",
      "Al-Quran 30 Juz free copies : 500,000+\n",
      "Koran Read &MP3 30 Juz Offline : 1,000,000+\n",
      "Hafizi Quran 15 lines per page : 1,000,000+\n",
      "Quran for Android : 10,000,000+\n",
      "Surah Al-Waqiah : 100,000+\n",
      "Hisnul Al Muslim - Hisn Invocations & Adhkaar : 100,000+\n",
      "Satellite AR : 1,000,000+\n",
      "Audiobooks from Audible : 100,000,000+\n",
      "Kinot & Eichah for Tisha B'Av : 10,000+\n",
      "AW Tozer Devotionals - Daily : 5,000+\n",
      "Tozer Devotional -Series 1 : 1,000+\n",
      "The Pursuit of God : 1,000+\n",
      "AY Sing : 5,000+\n",
      "Ay Hasnain k Nana Milad Naat : 10,000+\n",
      "Ay Mohabbat Teri Khatir Novel : 10,000+\n",
      "Arizona Statutes, ARS (AZ Law) : 1,000+\n",
      "Oxford A-Z of English Usage : 1,000,000+\n",
      "BD Fishpedia : 1,000+\n",
      "BD All Sim Offer : 10,000+\n",
      "Youboox - Livres, BD et magazines : 500,000+\n",
      "B&H Kids AR : 10,000+\n",
      "B y H Niños ES : 5,000+\n",
      "Dictionary.com: Find Definitions for English Words : 10,000,000+\n",
      "English Dictionary - Offline : 10,000,000+\n",
      "Bible KJV : 5,000,000+\n",
      "Borneo Bible, BM Bible : 10,000+\n",
      "MOD Black for BM : 100+\n",
      "BM Box : 1,000+\n",
      "Anime Mod for BM : 100+\n",
      "NOOK: Read eBooks & Magazines : 10,000,000+\n",
      "NOOK Audiobooks : 500,000+\n",
      "NOOK App for NOOK Devices : 500,000+\n",
      "Browsery by Barnes & Noble : 5,000+\n",
      "bp e-store : 1,000+\n",
      "Brilliant Quotes: Life, Love, Family & Motivation : 1,000,000+\n",
      "BR Ambedkar Biography & Quotes : 10,000+\n",
      "BU Alsace : 100+\n",
      "Catholic La Bu Zo Kam : 500+\n",
      "Khrifa Hla Bu (Solfa) : 10+\n",
      "Kristian Hla Bu : 10,000+\n",
      "SA HLA BU : 1,000+\n",
      "Learn SAP BW : 500+\n",
      "Learn SAP BW on HANA : 500+\n",
      "CA Laws 2018 (California Laws and Codes) : 5,000+\n",
      "Bootable Methods(USB-CD-DVD) : 10,000+\n",
      "cloudLibrary : 100,000+\n",
      "SDA Collegiate Quarterly : 500+\n",
      "Sabbath School : 100,000+\n",
      "Cypress College Library : 100+\n",
      "Stats Royale for Clash Royale : 1,000,000+\n",
      "GATE 21 years CS Papers(2011-2018 Solved) : 50+\n",
      "Learn CT Scan Of Head : 5,000+\n",
      "Easy Cv maker 2018 : 10,000+\n",
      "How to Write CV : 100,000+\n",
      "CW Nuclear : 1,000+\n",
      "CY Spray nozzle : 10+\n",
      "BibleRead En Cy Zh Yue : 5+\n",
      "CZ-Help : 5+\n",
      "Modlitební knížka CZ : 500+\n",
      "Guide for DB Xenoverse : 10,000+\n",
      "Guide for DB Xenoverse 2 : 10,000+\n",
      "Guide for IMS DB : 10+\n",
      "DC HSEMA : 5,000+\n",
      "DC Public Library : 1,000+\n",
      "Painting Lulu DC Super Friends : 1,000+\n",
      "Dictionary : 10,000,000+\n",
      "Fix Error Google Playstore : 1,000+\n",
      "D. H. Lawrence Poems FREE : 1,000+\n",
      "Bilingual Dictionary Audio App : 5,000+\n",
      "DM Screen : 10,000+\n",
      "wikiHow: how to do anything : 1,000,000+\n",
      "Dr. Doug's Tips : 1,000+\n",
      "Bible du Semeur-BDS (French) : 50,000+\n",
      "La citadelle du musulman : 50,000+\n",
      "DV 2019 Entry Guide : 10,000+\n",
      "DV 2019 - EDV Photo & Form : 50,000+\n",
      "DV 2018 Winners Guide : 1,000+\n",
      "EB Annual Meetings : 1,000+\n",
      "EC - AP & Telangana : 5,000+\n",
      "TN Patta Citta & EC : 10,000+\n",
      "AP Stamps and Registration : 10,000+\n",
      "CompactiMa EC pH Calibration : 100+\n",
      "EGW Writings 2 : 100,000+\n",
      "EGW Writings : 1,000,000+\n",
      "Bible with EGW Comments : 100,000+\n",
      "My Little Pony AR Guide : 1,000,000+\n",
      "SDA Sabbath School Quarterly : 500,000+\n",
      "Duaa Ek Ibaadat : 5,000+\n",
      "Spanish English Translator : 10,000,000+\n",
      "Dictionary - Merriam-Webster : 10,000,000+\n",
      "JW Library : 10,000,000+\n",
      "Oxford Dictionary of English : Free : 10,000,000+\n",
      "English Hindi Dictionary : 10,000,000+\n",
      "English to Hindi Dictionary : 5,000,000+\n",
      "EP Research Service : 1,000+\n",
      "Hymnes et Louanges : 100,000+\n",
      "EU Charter : 1,000+\n",
      "EU Data Protection : 1,000+\n",
      "EU IP Codes : 100+\n",
      "EW PDF : 5+\n",
      "BakaReader EX : 100,000+\n",
      "EZ Quran : 50,000+\n",
      "FA Part 1 & 2 Past Papers Solved Free – Offline : 5,000+\n",
      "La Fe de Jesus : 1,000+\n",
      "La Fe de Jesús : 500+\n",
      "Le Fe de Jesus : 500+\n",
      "Florida - Pocket Brainbook : 1,000+\n",
      "Florida Statutes (FL Code) : 1,000+\n",
      "English To Shona Dictionary : 10,000+\n",
      "Greek Bible FP (Audio) : 1,000+\n",
      "Golden Dictionary (FR-AR) : 500,000+\n",
      "Fanfic-FR : 5,000+\n",
      "Bulgarian French Dictionary Fr : 10,000+\n",
      "Chemin (fr) : 1,000+\n",
      "The SCP Foundation DB fr nn5n : 1,000+\n"
     ]
    }
   ],
   "source": [
    "\n",
    "for app in free_apps_android:\n",
    "    if app[1] == 'BOOKS_AND_REFERENCE':\n",
    "        print(app[0], ':', app[5])"
   ]
  },
  {
   "cell_type": "markdown",
   "metadata": {},
   "source": [
    "### There are a few apps that are a lot more popular and skew out the results, but there are only a few and it has a great variety of different books such as software books, religous books, learning books etc. "
   ]
  },
  {
   "cell_type": "code",
   "execution_count": 175,
   "metadata": {},
   "outputs": [
    {
     "name": "stdout",
     "output_type": "stream",
     "text": [
      "Google Play Books : 1,000,000,000+\n",
      "Bible : 100,000,000+\n",
      "Amazon Kindle : 100,000,000+\n",
      "Wattpad 📖 Free Books : 100,000,000+\n",
      "Audiobooks from Audible : 100,000,000+\n"
     ]
    }
   ],
   "source": [
    "\n",
    "for app in free_apps_android:\n",
    "    if app[1] == 'BOOKS_AND_REFERENCE' and (app[5] == '1,000,000,000+'\n",
    "                                            or app[5] == '500,000,000+'\n",
    "                                            or app[5] == '100,000,000+'):\n",
    "        print(app[0], ':', app[5])"
   ]
  },
  {
   "cell_type": "code",
   "execution_count": 176,
   "metadata": {},
   "outputs": [
    {
     "name": "stdout",
     "output_type": "stream",
     "text": [
      "Wikipedia : 10,000,000+\n",
      "Cool Reader : 10,000,000+\n",
      "Book store : 1,000,000+\n",
      "FBReader: Favorite Book Reader : 10,000,000+\n",
      "Free Books - Spirit Fanfiction and Stories : 1,000,000+\n",
      "AlReader -any text book reader : 5,000,000+\n",
      "FamilySearch Tree : 1,000,000+\n",
      "Cloud of Books : 1,000,000+\n",
      "ReadEra – free ebook reader : 1,000,000+\n",
      "Ebook Reader : 5,000,000+\n",
      "Read books online : 5,000,000+\n",
      "eBoox: book reader fb2 epub zip : 1,000,000+\n",
      "All Maths Formulas : 1,000,000+\n",
      "Ancestry : 5,000,000+\n",
      "HTC Help : 10,000,000+\n",
      "Moon+ Reader : 10,000,000+\n",
      "English-Myanmar Dictionary : 1,000,000+\n",
      "Golden Dictionary (EN-AR) : 1,000,000+\n",
      "All Language Translator Free : 1,000,000+\n",
      "Aldiko Book Reader : 10,000,000+\n",
      "Dictionary - WordWeb : 5,000,000+\n",
      "50000 Free eBooks & Free AudioBooks : 5,000,000+\n",
      "Al-Quran (Free) : 10,000,000+\n",
      "Al Quran Indonesia : 10,000,000+\n",
      "Al'Quran Bahasa Indonesia : 10,000,000+\n",
      "Al Quran Al karim : 1,000,000+\n",
      "Al Quran : EAlim - Translations & MP3 Offline : 5,000,000+\n",
      "Koran Read &MP3 30 Juz Offline : 1,000,000+\n",
      "Hafizi Quran 15 lines per page : 1,000,000+\n",
      "Quran for Android : 10,000,000+\n",
      "Satellite AR : 1,000,000+\n",
      "Oxford A-Z of English Usage : 1,000,000+\n",
      "Dictionary.com: Find Definitions for English Words : 10,000,000+\n",
      "English Dictionary - Offline : 10,000,000+\n",
      "Bible KJV : 5,000,000+\n",
      "NOOK: Read eBooks & Magazines : 10,000,000+\n",
      "Brilliant Quotes: Life, Love, Family & Motivation : 1,000,000+\n",
      "Stats Royale for Clash Royale : 1,000,000+\n",
      "Dictionary : 10,000,000+\n",
      "wikiHow: how to do anything : 1,000,000+\n",
      "EGW Writings : 1,000,000+\n",
      "My Little Pony AR Guide : 1,000,000+\n",
      "Spanish English Translator : 10,000,000+\n",
      "Dictionary - Merriam-Webster : 10,000,000+\n",
      "JW Library : 10,000,000+\n",
      "Oxford Dictionary of English : Free : 10,000,000+\n",
      "English Hindi Dictionary : 10,000,000+\n",
      "English to Hindi Dictionary : 5,000,000+\n"
     ]
    }
   ],
   "source": [
    "for app in free_apps_android:\n",
    "    if app[1] == 'BOOKS_AND_REFERENCE' and (app[5] == '1,000,000+'\n",
    "                                            or app[5] == '5,000,000+'\n",
    "                                            or app[5] == '10,000,000+'\n",
    "                                            or app[5] == '50,000,000+'):\n",
    "        print(app[0], ':', app[5])"
   ]
  },
  {
   "cell_type": "markdown",
   "metadata": {},
   "source": [
    "### There are quite a few books about the Quran, that suggest that uploading an app about a popular book"
   ]
  }
 ],
 "metadata": {
  "kernelspec": {
   "display_name": "Python 3",
   "language": "python",
   "name": "python3"
  },
  "language_info": {
   "codemirror_mode": {
    "name": "ipython",
    "version": 3
   },
   "file_extension": ".py",
   "mimetype": "text/x-python",
   "name": "python",
   "nbconvert_exporter": "python",
   "pygments_lexer": "ipython3",
   "version": "3.8.2"
  }
 },
 "nbformat": 4,
 "nbformat_minor": 2
}
